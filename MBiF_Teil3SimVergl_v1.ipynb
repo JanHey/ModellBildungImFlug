{
 "cells": [
  {
   "cell_type": "markdown",
   "metadata": {},
   "source": [
    "# Meilenstein 5: die Simulation\n",
    "\n",
    "In diesem Abschnitt simulierst du die Wurfbewegung. Hier nutzt du das Modell, das wir dir in dem Erklärvideo vorgestellt haben. In dieser Kurzversion \"ModellBildung im Flug\" musst du das Modell nicht selber in Rechenvorschriften umsetzen, sondern das ist für dich bereits fertig vorbereitet. \n",
    "\n",
    "Mit der folgenden Simulation nutzen wir also das Modell aus dem Erklärvideo, in dem das von dir geworfene Objekt nur ein Punkt ist, der sich ohne Luftreibung durch den Raum bewegt. Gib hierunter die Schätzwerte für die Anfangswerte von Ort und Geschwindigkeit in x- und y-Richtung ein, die neben dem Modell die Simulation festlegen. Falls du gerade ein wiederholtes Mal eine Simulation ausführst, erhöhe den Wert von \"Nr\", um deine früheren Ergebnisse nicht zu überschreiben. Führe dann die Zelle aus, um die Simulation zu starten. \n","
    "\n",
    "Das erzeugte Bild kannst du über den Downloadbutton herunterladen und speichern."
   ]
  },
  {
   "cell_type": "code",
   "execution_count": null,
   "metadata": {},
   "outputs": [],
   "source": [
    "# Führe zuerst  diese Zelle aus, um die Werte aus der Videoanalyse zu laden.\n",
    "from educhallenge_vX4 import * \n",
    "x, y, zeitpunkte, B, H, b, h, fps, delta_t, N_Punkte, N_Bilder, x_0, y_0, v_x0, v_y0 = werte_wiederherstellen()"
   ]
  },
  {
   "cell_type": "code",
   "execution_count": null,
   "metadata": {},
   "outputs": [],
   "source": [
    "# Trage hier nun die Anfangswerte ein, mit der du die Simulation durchführen möchtest. \n",
    "# Zunächst kannst du dazu die geschätzten Anfangswerte aus der Videoanalyse nehmen. \n",
    "# Später kannst du sie auch ändern, um deine Simulation ggf. besser an deine beobachteten Daten anzupassen. \n",
    "\n",
    "x_0  = 0.14 # Ort des Balls in x-Richtung am Anfang, Einheit: m\n",
    "y_0  = 0.24 # Ort des Balls in y-Richtung am Anfang, Einheit: m\n",
    "v_x0 = 3.00 # Geschwindigkeit des Balls in x-Richtung am Anfang, Einheit: m/s\n",
    "v_y0 = 2.95 # Geschwindigkeit des Balls in y-Richtung am Anfang, Einheit: m/s\n",
    "\n",
    "Nr = 1\n",
    "\n",
    "df_sim = simulation_ausführen(x_0, y_0, v_x0, v_y0, fps, N_Punkte, Nr)"
   ]
  },
  {
   "cell_type": "markdown",
   "metadata": {},
   "source": [
    "# Meilenstein 6: Vergleich von Simulation und Messdaten\n",
    "\n",
    "Du hast nun Messdaten der real beobachteten Flugkurve aus dem Video. Und du hast eine Simulation der Bewegung, die auf einem Modell beruht, also auf einer Vorstellung darüber, wie die Natur funktionieren könnte. Ein naturwissenschaftliches Modell überprüfen wir immer an Beobachtungen. Vergleiche also nun die Ergebnisse deiner Simulation mit deiner Beobachtung! Dazu kannst du nun eine Grafik und ein Video erzeugen lassen, in denen deine beobachteten Messwerte mit den Simulationsergebnissen überlagert werden. \n",
    "\n",
    "Führe die nächsten beiden Zellen aus, um die Grafik und das Überlagerungsvideo zu erzeugen. "
   ]
  },
  {
   "cell_type": "code",
   "execution_count": null,
   "metadata": {},
   "outputs": [],
   "source": [
    "# Grafik erzeugen\n",
    "erzeuge_Grafiken(Nr)"
   ]
  },
  {
   "cell_type": "code",
   "execution_count": null,
   "metadata": {},
   "outputs": [],
   "source": [
    "# Video erzeugen\n",
    "erzeuge_Ueberlagerungsvideo(Nr)"
   ]
  },
  {
   "cell_type": "markdown",
   "metadata": {},
   "source": [
    "Schaue dir die Grafik und das Video an. Wie gut beschreibt die Simulation die Beobachtung? \n",
    "\n",
    "Falls Simulationsergebnis und Modell nicht so gut zusammen passen, kannst du folgendes versuchen: \n",
    "- Kontrolliere deine Videoaufnahme: Ist die Kamera wirklich nicht bewegt? Ist die notierte Breite des Bildausschnitts B richtig gemessen? Gibt es evtl. perspektivisiche Verzerrungen? Fallen dir andere Faktoren ein, die das Experiment beeinflusst haben könnten?\n",
    "- Überprüfe deine Simulation: An den voreingestellten Parametern der Simulation kannst du zwar in dieser Mission \"ModellBildung im Flug\" nichts ändern. Aber überprüfe deine Anfangswerte! Die Ausgabe dazu ist nur ein Schätzwert! Ändere deine Anfangswerte und schaue, ob du Anfangswerte findest, mit denen deine Simulation besonders gut zu der beobachteten Bewegung passt.\n",
    "\n",
    "Es kann aber auch sein, dass trotz allen Versuchen das Modell mit der Beobachtung in Übereinstimmung zu bringen, dies einfach nicht passt. Dies ist der spannendste Fall! Denn dann heißt es, dass du das Modell erweitern musst! \n",
    "\n",
    "Wenn du einen solchen Fall gefunden hast, nimm ab Herbst 2023 an der gesamten \"EduChallenge: ModellBildung\" teil, um noch mehr über Modelle zu erfahren und dein Modell so weiterzudenken, dass es möglichst gut zu deiner Beobachtung passt!\n",
    "\n",
    "Aber zunächst: Lade die letzte Grafik und das Video im Forum hoch und ergänze ein paar Notizen, was du gemacht hast und wie du die Übereinstimmung des Modells mit deiner Beobachtung bewertest. Wir sind super gespannt! Mit dem Eintrag im Forum nimmst du außerdem an unserem Gewinnspiel teil. "
   ]
  }
 ],
 "metadata": {
  "kernelspec": {
   "display_name": "Python 3 (ipykernel)",
   "language": "python",
   "name": "python3"
  },
  "language_info": {
   "codemirror_mode": {
    "name": "ipython",
    "version": 3
   },
   "file_extension": ".py",
   "mimetype": "text/x-python",
   "name": "python",
   "nbconvert_exporter": "python",
   "pygments_lexer": "ipython3",
   "version": "3.10.9"
  }
 },
 "nbformat": 4,
 "nbformat_minor": 2
}
