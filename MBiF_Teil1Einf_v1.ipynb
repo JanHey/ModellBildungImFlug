{
 "cells": [
  {
   "cell_type": "markdown",
   "metadata": {},
   "source": [
    "# Meilenstein 2: Hallo Mensch! \n",
    "\n",
    "Schön, dass du hier bist! Dies ist ein Meilenstein, der in einer Programmierumgebung läuft. In dieser ersten Programmierumgebung lernst du diese Umgebung zunächst kennen. \n",
    "\n",
    "Erschrick bitte nicht, falls du noch nie programmiert hast! Wir setzen keine Programmierkenntnisse voraus und zeigen dir alles, was du wissen musst, im Abschnitt des ersten Meilensteins.\n",
    "\n",
    "Falls du Fragen hast, wende dich an deine Lehrkraft oder an Jan Heysel an der Uni Bonn (jan.heysel@uni-bonn.de oder 0228 73 2269). "
   ]
  },
  {
   "cell_type": "markdown",
   "metadata": {},
   "source": [
    "### Schritt 1: Dem Computer Anweisungen geben\n",
    "Text, der so gedruckt ist wie hier oder der hinter einer Raute / Hashtag (\"#\") steht, ist ein Kommentar für dich als Mensch. Der Computer macht nichts damit.\n",
    "Zellen, neben denen \"In [ ]\" steht, sind \"Code-Zellen\". Der Text darin ist eine Anweisung an den Computer. Diese Anweisungen sind in der Programmiersprache Python geschrieben. Wenn du auf das Playsymbol links von der Zelle drückst (falls du an einem iPad arbeitest) oder die 'Umschalt'- und 'Enter'-Taste (falls du eine Tastatur vor dir hast) gleichzeitig drückst, führt der Computer diese Eingaben aus. Das heißt, du sagst dem Computer, dass er das machen soll, was in der Zelle steht. \n",
    "\n",
    "\n",
    "Ein Beispiel: in der folgenden Zelle steht für den Computer, dass er \"Hallo Welt.\" drucken soll (engl. \"print\" = drucken). Drücke einmal auf das Play-Symbol links neben der Zelle (wenn du in der App auf einem iPad arbeitest) oder 'Umschalt' und 'Enter' gleichzeitig (wenn du eine Tastatur vor dir hast), um dem Computer den Befehl zu geben. Probiere es aus!"
   ]
  },
  {
   "cell_type": "code",
   "execution_count": null,
   "metadata": {},
   "outputs": [],
   "source": [
    "print(\"Hallo Welt.\")"
   ]
  },
  {
   "cell_type": "markdown",
   "metadata": {},
   "source": [
    "### Schritt 2: Variablen definieren\n",
    "Variablen kennst du vermutlich aus dem Mathe- oder Physikunterricht. Variablen sind Platzhalter, die verschiedene Werte annehmen können. Aus Mathe kennst du vermutlich Variablen, die für Zahlen stehen. Das geht hier auch. Außerdem können Variablen hier auch für andere Inhalte stehen, z.B. für Text. Solchen Text schreiben wir in Anführungszeichen, damit der Computer weiß, dass wir Text meinen. \n",
    "\n",
    "Beispiel: Belege die Variablen \"Name\" mit deinem Namen und die Variable \"a\" mit deinem Alter. Kannst du erraten, was der Computer ausgibt, wenn du die folgende Zelle ausführst? Führe die Zelle dann aus. "
   ]
  },
  {
   "cell_type": "code",
   "execution_count": null,
   "metadata": {},
   "outputs": [],
   "source": [
    "a = 17\n",
    "Name = \"Jan\"\n",
    "\n",
    "print(\"Hallo \" + Name + \".\")\n",
    "print(str(a) + \" ist ein schönes Alter.\")"
   ]
  },
  {
   "cell_type": "markdown",
   "metadata": {},
   "source": [
    "### Schritt 3: Rechnen\n",
    "Natürlich kann ein Computer auch rechnen. Trage für die Variable \"b\" das Alter einer Partner:in ein, mit der du gerade zusammenarbeitest. Führe dann die Zelle aus."
   ]
  },
  {
   "cell_type": "code",
   "execution_count": null,
   "metadata": {},
   "outputs": [],
   "source": [
    "b = 15\n",
    "c = a + b\n",
    "\n",
    "print(\"Zusammen seid ihr \" + str(c) + \" Jahre alt.\")"
   ]
  },
  {
   "cell_type": "markdown",
   "metadata": {},
   "source": [
    "Du hast nun gelernt, wie du dem Computer in der Programmiersprache Python Befehle geben und diese ausführen kannst, wie du Variablen festlegen kannst und dass der Computer damit rechnen kann. Für diese Simulationsumgebung reicht das schon! Du hast den ersten Meilenstein erreicht!\n",
    "\n",
    "Mache dich nun auf zum nächsten Meilenstein, der Videoanalyse!"
   ]
  }
 ],
 "metadata": {
  "kernelspec": {
   "display_name": "Python 3 (ipykernel)",
   "language": "python",
   "name": "python3"
  },
  "language_info": {
   "codemirror_mode": {
    "name": "ipython",
    "version": 3
   },
   "file_extension": ".py",
   "mimetype": "text/x-python",
   "name": "python",
   "nbconvert_exporter": "python",
   "pygments_lexer": "ipython3",
   "version": "3.10.9"
  }
 },
 "nbformat": 4,
 "nbformat_minor": 2
}
