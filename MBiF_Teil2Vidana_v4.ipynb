{
 "cells": [
  {
   "cell_type": "markdown",
   "metadata": {},
   "source": [
    "# Meilenstein 2: Videoanalyse\n",
    "\n",
    "Du hast bereits ein Video einer Wurfbewegung aus einer Sportart aufgenommen (falls doch nicht, mach dies zuerst). Dieses Video analysieren wir nun, mit zwei Zielen:\n",
    "- Wir bestimmen Schätzwerte für den Ort und die Geschwindigkeit (je in x- und y-Richtung), die das Objekt zu Beginn der freien Flugbewegung haben. Diese Werte nennen wir \"Anfangswerte\". Wir benötigen diese Werte später, um die Flugkurve zu simulieren.\n",
    "- Wir erhalten Messwerte der Flugkurve. Mit diesen Messwerten vergleichen wir am Ende unsere Simulation, um zu überprüfen, wie gut Simulation und Beobachtung zusammenpassen. \n",
    "\n",
    "Bevor du weitermachst, erledige diese beiden Schritte zur Vorbereitung:\n",
    "1) Stelle sicher, dass das Video, dass du aufgenommen hast, wirklich genau zeitlich und räumlich zugeschnitten ist. Zeitlich zugeschnitten meint: bereits auf dem ersten Bild des Videos sollte sich das Objekt frei bewegen, also die abwerfende Hand verlassen haben. Räumlich zugeschnitten meint: die von dir gemessene Breite B ist tatsächlich die Breite des Bildausschnitts in der Realität.\n",
    "2) Übertrage das Video auf das Gerät, auf dem du gerade arbeitest. (Wenn du hier auf dem gleichen iPad o.ä. arbeitest, mit dem du auch das Video aufgenommen hast, entfällt dieser Schritt.)\n",
    " "
   ]
  },
  {
   "cell_type": "markdown",
   "metadata": {},
   "source": [
    "Führe nun die folgende Zelle aus (nichts daran änder), sodass ein Uploadbutton erscheint. Lade nun hier das aufgenommene Video hoch:"
   ]
  },
  {
   "cell_type": "code",
   "execution_count": null,
   "metadata": {},
   "outputs": [],
   "source": [
    "from educhallenge_vX4 import * \n",
    "Uploadbutton()"
   ]
  },
  {
   "cell_type": "markdown",
   "metadata": {},
   "source": [
    "Gib hier die Breite B des Bildausschnitts des Videos in Realität ein. Beachte:\n",
    "- Gib die Breite in der Einheit Meter an, aber ohne die Einheit hinzuschreiben.\n",
    "- Nutze statt eines Kommas einen Punkt (amerikanische Schreibweise von Kommazahlen).\n",
    "\n",
    "Beispiel: Wenn der Bildausschnitt in Realität 2,5m breit ist, gibt man ein: \n",
    "\n",
    "B = 2.5"
   ]
  },
  {
   "cell_type": "code",
   "execution_count": null,
   "metadata": {},
   "outputs": [],
   "source": [
    "B = 1.23 # Bildbreite in Meter - diese entsprechend der eigenen Aufnahme ändern!!\n",
    "\n",
    "print(\"Eingabe Bildbreite: \" + str(B) + \" m\")"
   ]
  },
  {
   "cell_type": "markdown",
   "metadata": {},
   "source": [
    "Im Folgenden geben wir dem Computer verschiedene Informationen, die er braucht, lesen das Video ein und zerlegen es in einzelne Bilder. Bitte führe diese Zelle aus - wie auch immer alle folgenden Zellen. Unter der Zelle sollte dann stehen \"Informationen und Video erfolgreich eingelesen\". Kümmere dich nicht weiter darum, was in der Zelle genau passiert, sondern gehe weiter zur nächsten Zelle. "
   ]
  },
  {
   "cell_type": "code",
   "execution_count": null,
   "metadata": {},
   "outputs": [],
   "source": [
    "import matplotlib.animation as animation\n",
    "\n",
    "def onclick(event):\n",
    "    ix, iy = event.xdata, event.ydata\n",
    "    x.append(ix)\n",
    "    y.append(iy)\n",
    "    return x, y\n",
    "\n",
    "N_Bilder, fps, h, b, H = vorbereitungen(B)"
   ]
  },
  {
   "cell_type": "markdown",
   "metadata": {},
   "source": [
    "Auch in der nächsten Zelle musst du dich nicht darum kümmern, was der Programmcode bedeutet. Wichtig ist für dich:\n",
    "\n",
    "Unter der Zelle erscheinen gleich alle Bilder, aus denen das Video besteht, das du hochgeladen hast. Klicke in jedem Bild das fliegende Objekt an, das du untersuchen möchtest. Auf diese Weise markierst du die Flugkurve des Objekts."
   ]
  },
  {
   "cell_type": "code",
   "execution_count": null,
   "metadata": {},
   "outputs": [],
   "source": [
    "fig, ax = define_figure(B, H)\n",
    "fmes = define_fmes(N_Bilder, B, H)\n",
    "x = []\n",
    "y = []\n",
    "\n",
    "ani = animation.ArtistAnimation(fig, fmes, interval=1500, repeat = False) \n",
    "cid = fig.canvas.mpl_connect('button_press_event', onclick)\n",
    "plt.show()"
   ]
  },
  {
   "cell_type": "markdown",
   "metadata": {},
   "source": [
    "Wenn du den Ball in allen Bildern angeklickt / angetippt hast, führe auch die folgende Zelle aus, um die Messwerte anzuzeigen und zu speichern."
   ]
  },
  {
   "cell_type": "code",
   "execution_count": null,
   "metadata": {},
   "outputs": [],
   "source": [
    "N_Punkte = Messwerte_zeigen_und_speichern(x, y, B, H, b, h, fps, N_Bilder)"
   ]
  },
  {
   "cell_type": "markdown",
   "metadata": {},
   "source": [
    "Meilenstein 2, die Videoanalyse, hast du nun fertig. Glückwunsch! \n",
    "\n",
    "Zum Abschluss dieses Teils führe die letzte Zelle aus und klicke auf jeden Button einmal, um die beiden Dateien \"Videoanalyse_Positionen.xlsx\" und \"Videoanalyse_Parameter.xlsx\" und die Grafik hierüber herunterzuladen. \n",
    "Wenn du nun direkt mit den nächsten Meilensteinen weiterarbeitest, sind diese Dateien auch auf dem Server und du brauchst sie eigentlich nicht. Wenn du später weiterarbeitest, sind sie auf dem Server jedoch wieder gelöscht. Wenn du sie lokal gespeichert hast, kannst du sie wieder hochladen und am nächsten Teil weiterarbeiten ohne diesen hier erneut machen zu müssen. "
   ]
  },
  {
   "cell_type": "code",
   "execution_count": null,
   "metadata": {},
   "outputs": [],
   "source": [
    "DownloadButton(\"Videoanalyse_Positionen.xlsx\")\n",
    "DownloadButton(\"Videoanalyse_Parameter.xlsx\")\n",
    "DownloadButton(\"Messwerte_aus_Antippen.png\")"
   ]
  }
 ],
 "metadata": {
  "kernelspec": {
   "display_name": "Python 3 (ipykernel)",
   "language": "python",
   "name": "python3"
  },
  "language_info": {
   "codemirror_mode": {
    "name": "ipython",
    "version": 3
   },
   "file_extension": ".py",
   "mimetype": "text/x-python",
   "name": "python",
   "nbconvert_exporter": "python",
   "pygments_lexer": "ipython3",
   "version": "3.9.13"
  }
 },
 "nbformat": 4,
 "nbformat_minor": 2
}
