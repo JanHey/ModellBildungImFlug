{
 "cells": [
  {
   "cell_type": "markdown",
   "metadata": {},
   "source": [
    "# Meilenstein 2: Videoanalyse\n",
    "\n",
    "Du hast bereits ein Video einer Wurfbewegung aus einer Sportart aufgenommen (falls doch nicht, mach dies zuerst). Dieses Video analysieren wir nun, mit zwei Zielen:\n",
    "- Wir bestimmen Schätzwerte für den Ort und die Geschwindigkeit (je in x- und y-Richtung), die das Objekt zu Beginn der freien Flugbewegung haben. Diese Werte nennen wir \"Anfangswerte\". Wir benötigen diese Werte später, um die Flugkurve zu simulieren.\n",
    "- Wir erhalten Messwerte der Flugkurve. Mit diesen Messwerten vergleichen wir am Ende unsere Simulation, um zu überprüfen, wie gut Simulation und Beobachtung zusammenpassen. \n",
    "\n",
    "Und so geht es los:\n",
    "1) Stelle sicher, dass das Video, dass du aufgenommen hast, wirklich genau zeitlich und räumlich zugeschnitten ist. Zeitlich zugeschnitten meint: bereits auf dem ersten Bild des Videos sollte sich das Objekt frei bewegen, also die abwerfende Hand verlassen haben. Räumlich zugeschnitten meint: die von dir gemessene Breite B ist tatsächlich die Breite des Bildausschnitts in der Realität.\n",
    "2) Übertrage das Video auf das Gerät, auf dem du gerade arbeitest.\n",
    "3) Lade das Video in diese Umgebung hoch.\n",
    "4) Trage nun die Bildbreite B und den Dateinamen des Videos in der Zelle hierunter ein. Beachte hierbei: Gib die Bildbreite in der Einheit Meter an, aber nur die Zahl. Statt eines Kommas mache einen Punkt, wie im Beispiel (amerikanische Schreibweise von Kommazahlen). Um den Dateinamen sollten Anführungszeichen stehen, wie bei dem Beispiel. Gib den Dateinamen einschließlich Dateiendung ein. Beachte Groß- und Kleinschreibung. Der Dateiname darf keine Leerzeichen enthalten. Falls der Dateiname Leerzeichen enthält, ändere ihn zuerst. \n",
    "5) Führe die Zelle hierunter dann aus (auf Tastatur 'Umschalt' und 'Enter' drücken). Unter der Zelle sollten dann die Bildbreite und der Dateiname ausgegeben werden. "
   ]
  },
  {
   "cell_type": "code",
   "execution_count": null,
   "metadata": {},
   "outputs": [],
   "source": [
    "B = 2.0 # Bildbreite in Meter\n",
    "dateiname_realvideo = \"Video_WPH_kurz.mp4\"\n",
    "\n",
    "print(\"Eingabe Bildbreite: \" + str(B) + \" m\")\n",
    "print(\"Eingabe Dateiname Video: \" + dateiname_realvideo)"
   ]
  },
  {
   "cell_type": "markdown",
   "metadata": {},
   "source": [
    "Im Folgenden geben wir dem Computer verschiedene Informationen, die er braucht, lesen das Video ein und zerlegen es in einzelne Bilder. Bitte führe diese Zelle aus - wie auch immer alle folgenden Zellen. Unter der Zelle sollte dann stehen \"Informationen und Video erfolgreich eingelesen\". Kümmere dich nicht weiter darum, was in der Zelle genau passiert, sondern gehe weiter zur nächsten Zelle. "
   ]
  },
  {
   "cell_type": "code",
   "execution_count": null,
   "metadata": {},
   "outputs": [],
   "source": [
    "from educhallenge_vX2 import * \n",
    "import matplotlib.animation as animation\n",
    "\n",
    "def onclick(event):\n",
    "    ix, iy = event.xdata, event.ydata\n",
    "    x.append(ix)\n",
    "    y.append(iy)\n",
    "    return x, y\n",
    "\n",
    "N_Bilder, fps, h, b, H = vorbereitungen(dateiname_realvideo, B)"
   ]
  },
  {
   "cell_type": "markdown",
   "metadata": {},
   "source": [
    "Auch in der nächsten Zelle musst du dich nicht darum kümmern, was der Programmcode bedeutet. Wichtig ist für dich:\n",
    "\n",
    "Unter der Zelle erscheinen gleich alle Bilder, aus denen das Video besteht, das du hochgeladen hast. Klicke in jedem Bild das fliegende Objekt an, das du untersuchen möchtest. Auf diese Weise markierst du die Flugkurve des Objekts."
   ]
  },
  {
   "cell_type": "code",
   "execution_count": null,
   "metadata": {},
   "outputs": [],
   "source": [
    "fig, ax = define_figure(B, H)\n",
    "fmes = define_fmes(N_Bilder, B, H)\n",
    "x = []\n",
    "y = []\n",
    "\n",
    "ani = animation.ArtistAnimation(fig, fmes, interval=1500, repeat = False) \n",
    "cid = fig.canvas.mpl_connect('button_press_event', onclick)\n",
    "plt.show()"
   ]
  },
  {
   "cell_type": "markdown",
   "metadata": {},
   "source": [
    "Wenn du den Ball in allen Bildern angeklickt / angetippt hast, führe auch die folgende Zelle aus, um die Messwerte anzuzeigen und zu speichern."
   ]
  },
  {
   "cell_type": "code",
   "execution_count": null,
   "metadata": {},
   "outputs": [],
   "source": [
    "N_Punkte = Messwerte_zeigen_und_speichern(x, y, B, H, b, h, fps, N_Bilder)"
   ]
  },
  {
   "cell_type": "markdown",
   "metadata": {},
   "source": [
    "Meilenstein 2, die Videoanalyse, hast du nun fertig. Glückwunsch! \n",
    "\n",
    "In den beiden Dateien \"Videoanalyse_Positionen.xlsx\" und \"Videoanalyse_Parameter.xlsx\" sind deine Werte gespeichert. Lade diese Dateien am besten einmal auf dein lokales Gerät herunter, damit du sie als Sicherung hast, falls du später weiterarbeiten möchtest. Du kannst diese Dateien auch z.B. in Excel öffnen. Falls du an einem anderen Tag hier weiterarbeiten möchtest, kannst du diese Dateien wieder in diese Umgebung hochladen und dann hier weiterarbeiten. Führe dazu einfach die beiden Zellen oben, die mit \"B = ... \" und mit \"from educhallenge_vX1 import *\" beginnen sowie die folgende Zelle aus."
   ]
  }
 ],
 "metadata": {
  "kernelspec": {
   "display_name": "Python 3 (ipykernel)",
   "language": "python",
   "name": "python3"
  },
  "language_info": {
   "codemirror_mode": {
    "name": "ipython",
    "version": 3
   },
   "file_extension": ".py",
   "mimetype": "text/x-python",
   "name": "python",
   "nbconvert_exporter": "python",
   "pygments_lexer": "ipython3",
   "version": "3.10.9"
  }
 },
 "nbformat": 4,
 "nbformat_minor": 2
}
